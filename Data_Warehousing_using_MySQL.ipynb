{
  "cells": [
    {
      "cell_type": "markdown",
      "metadata": {
        "id": "FK_ydPh4LxXZ"
      },
      "source": [
        "# Datawarehousing with MySQL - StartUP"
      ]
    },
    {
      "cell_type": "markdown",
      "metadata": {
        "id": "t2HbOmI3MPLA"
      },
      "source": [
        "based on the codes available with the book Dimensional Datawarehousing \n",
        "available here https://drive.google.com/file/d/1Sx6f1y2mXTswCllmyVgj_AsM9jVbOMnU/view?usp=sharing\n"
      ]
    },
    {
      "cell_type": "markdown",
      "metadata": {
        "id": "OrqMBE2dMBSO"
      },
      "source": [
        "# Install MySQL"
      ]
    },
    {
      "cell_type": "code",
      "execution_count": null,
      "metadata": {
        "colab": {
          "base_uri": "https://localhost:8080/"
        },
        "id": "prBPJ6B0LmuU",
        "outputId": "aeb71e0d-d7f1-4bfe-d843-17882e8d142f"
      },
      "outputs": [
        {
          "output_type": "stream",
          "name": "stdout",
          "text": [
            "\n",
            "WARNING: apt does not have a stable CLI interface. Use with caution in scripts.\n",
            "\n",
            " * Stopping MySQL database server mysqld\n",
            "   ...done.\n",
            " * Starting MySQL database server mysqld\n",
            "su: warning: cannot change directory to /nonexistent: No such file or directory\n",
            "   ...done.\n",
            "+--------------------+\n",
            "| Database           |\n",
            "+--------------------+\n",
            "| information_schema |\n",
            "| mysql              |\n",
            "| performance_schema |\n",
            "| sys                |\n",
            "+--------------------+\n"
          ]
        }
      ],
      "source": [
        "!apt -y install mysql-server > /dev/null\n",
        "!/etc/init.d/mysql restart\n",
        "!mysql -e 'show databases'"
      ]
    },
    {
      "cell_type": "markdown",
      "metadata": {
        "id": "nOQvvyv1M7fv"
      },
      "source": [
        "#Get Code & Data Files"
      ]
    },
    {
      "cell_type": "code",
      "execution_count": null,
      "metadata": {
        "id": "c1EmoFsTM_6P"
      },
      "outputs": [],
      "source": [
        "#!wget https://brainysoftware.com/source/9780975212820.zip\n",
        "# archive available here https://drive.google.com/file/d/1qaiPXbxtIivCbBLmWiYvHMKAjAmNn2Y0/view?usp=sharing\n",
        "#!gdown https://drive.google.com/uc?id=1qaiPXbxtIivCbBLmWiYvHMKAjAmNn2Y0\n",
        "!wget -q -O dwCode.zip https://github.com/Praxis-QR/RDWH/blob/main/dwMySQL/dwCode.zip?raw=true"
      ]
    },
    {
      "cell_type": "code",
      "execution_count": null,
      "metadata": {
        "colab": {
          "base_uri": "https://localhost:8080/"
        },
        "id": "Nwt2TeOCNGjW",
        "outputId": "ec65f5d3-dcff-412a-98aa-28be6f5583d3"
      },
      "outputs": [
        {
          "output_type": "stream",
          "name": "stdout",
          "text": [
            "Archive:  dwCode.zip\n",
            "   creating: scripts/\n",
            "  inflating: scripts/across_all_dimensions.sql  \n",
            "  inflating: scripts/across_date.sql  \n",
            "  inflating: scripts/across_date_customer.sql  \n",
            "  inflating: scripts/across_date_product.sql  \n",
            "  inflating: scripts/additive_data.sql  \n",
            "  inflating: scripts/add_campaign_session.sql  \n",
            "  inflating: scripts/add_four_milestones.sql  \n",
            "  inflating: scripts/add_sales_order_quantity.sql  \n",
            "  inflating: scripts/add_two_sales_orders.sql  \n",
            "  inflating: scripts/annual_aggregation.sql  \n",
            "  inflating: scripts/annual_tables.sql  \n",
            "  inflating: scripts/balance_across_months.sql  \n",
            "  inflating: scripts/balance_across_products.sql  \n",
            "  inflating: scripts/band_dim.sql    \n",
            "  inflating: scripts/band_ini.sql    \n",
            "  inflating: scripts/band_regular.sql  \n",
            "  inflating: scripts/campaign_session.sql  \n",
            "  inflating: scripts/campaign_session_20.sql  \n",
            "  inflating: scripts/campaign_session_21.sql  \n",
            "  inflating: scripts/campaign_session_path.sql  \n",
            "  inflating: scripts/campaign_stg_20.sql  \n",
            "  inflating: scripts/campaign_stg_21.sql  \n",
            "  inflating: scripts/confirm_initial_population.sql  \n",
            "  inflating: scripts/create_campaign_stg.sql  \n",
            "  inflating: scripts/create_customer_stg.sql  \n",
            "  inflating: scripts/create_databases.sql  \n",
            "  inflating: scripts/create_dw_tables.sql  \n",
            "  inflating: scripts/create_four_date_views.sql  \n",
            "  inflating: scripts/create_month_end_sales_order_fact.sql  \n",
            "  inflating: scripts/create_product_stg.sql  \n",
            "  inflating: scripts/create_promo_schedule_stg.sql  \n",
            "  inflating: scripts/create_sales_order.sql  \n",
            "  inflating: scripts/create_user_id.sql  \n",
            "  inflating: scripts/customer_sk.sql  \n",
            "  inflating: scripts/daily_aggregation.sql  \n",
            "  inflating: scripts/daily_date.sql  \n",
            "  inflating: scripts/daily_production.sql  \n",
            "  inflating: scripts/daily_production_23.sql  \n",
            "  inflating: scripts/daily_production_data.sql  \n",
            "  inflating: scripts/database_view.sql  \n",
            "  inflating: scripts/date_views.sql  \n",
            "  inflating: scripts/date_view_22.sql  \n",
            "  inflating: scripts/degenerate.sql  \n",
            "  inflating: scripts/dimensional_query_data.sql  \n",
            "  inflating: scripts/drilling.sql    \n",
            "  inflating: scripts/dw_initial.sql  \n",
            "  inflating: scripts/dw_regular.sql  \n",
            "  inflating: scripts/dw_regular_10.sql  \n",
            "  inflating: scripts/dw_regular_11.sql  \n",
            "  inflating: scripts/dw_regular_12.sql  \n",
            "  inflating: scripts/dw_regular_13.sql  \n",
            "  inflating: scripts/dw_regular_14.sql  \n",
            "  inflating: scripts/dw_regular_17.sql  \n",
            "  inflating: scripts/dw_regular_18.sql  \n",
            "  inflating: scripts/dw_regular_21.sql  \n",
            "  inflating: scripts/dw_regular_22.sql  \n",
            "  inflating: scripts/dw_regular_23.sql  \n",
            "  inflating: scripts/entry_date.sql  \n",
            "  inflating: scripts/factory_ini.sql  \n",
            "  inflating: scripts/factory_master.sql  \n",
            "  inflating: scripts/factory_master_source.sql  \n",
            "  inflating: scripts/factory_stg.sql  \n",
            "  inflating: scripts/fill_help_tables.sql  \n",
            "  inflating: scripts/filtered_month_end_sales_order_fact.sql  \n",
            "  inflating: scripts/grouping.sql    \n",
            "  inflating: scripts/jan_month_end_balance_regular.sql  \n",
            "  inflating: scripts/junk_dim.sql    \n",
            "  inflating: scripts/load_product_stg.sql  \n",
            "  inflating: scripts/loyal_customer.sql  \n",
            "  inflating: scripts/monthly_product_performer.sql  \n",
            "  inflating: scripts/monthly_storage.sql  \n",
            "  inflating: scripts/month_end_balance_fact.sql  \n",
            "  inflating: scripts/month_end_balance_initial.sql  \n",
            "  inflating: scripts/month_end_balance_regular.sql  \n",
            "  inflating: scripts/month_end_sales_order.sql  \n",
            "  inflating: scripts/month_end_sales_order_22.sql  \n",
            "  inflating: scripts/month_rollup_dim.sql  \n",
            "  inflating: scripts/more_customer_sk.sql  \n",
            "  inflating: scripts/more_sales_order.sql  \n",
            "  inflating: scripts/mysql_fix_privilege_tables.sql  \n",
            "  inflating: scripts/new_customer_credit_check.sql  \n",
            "  inflating: scripts/non_pa_customer.sql  \n",
            "  inflating: scripts/nullify_campaign_session.sql  \n",
            "  inflating: scripts/on_demand.sql   \n",
            "  inflating: scripts/order_quantity.sql  \n",
            "  inflating: scripts/order_status.sql  \n",
            "  inflating: scripts/pa_customer.sql  \n",
            "  inflating: scripts/pre_populate_date.sql  \n",
            "  inflating: scripts/pre_populate_date_12.sql  \n",
            "  inflating: scripts/pre_populate_date_13.sql  \n",
            "  inflating: scripts/production_fact_23.sql  \n",
            "  inflating: scripts/production_regular.sql  \n",
            "  inflating: scripts/production_regular_23.sql  \n",
            "  inflating: scripts/product_count.sql  \n",
            "  inflating: scripts/product_count_ini.sql  \n",
            "  inflating: scripts/product_launch_date_dim.sql  \n",
            "  inflating: scripts/promotion_indicator.sql  \n",
            "  inflating: scripts/push_data.sql   \n",
            "  inflating: scripts/push_sales_order.sql  \n",
            "  inflating: scripts/quarterly_mechanicsburg.sql  \n",
            "  inflating: scripts/quarter_path.sql  \n",
            "  inflating: scripts/ragged_campaign.sql  \n",
            "  inflating: scripts/readme 1st      \n",
            "  inflating: scripts/readme 1st for scripts.txt  \n",
            "  inflating: scripts/remove_campaign.sql  \n",
            "  inflating: scripts/request_delivery_date.sql  \n",
            "  inflating: scripts/request_delivery_date_sk.sql  \n",
            "  inflating: scripts/request_delivery_date_source.sql  \n",
            "  inflating: scripts/sales_orders_24_ini.sql  \n",
            "  inflating: scripts/sales_orders_24_reg.sql  \n",
            "  inflating: scripts/sales_orders_step3.sql  \n",
            "  inflating: scripts/sales_orders_step5.sql  \n",
            "  inflating: scripts/sales_order_17.sql  \n",
            "  inflating: scripts/sales_order_18.sql  \n",
            "  inflating: scripts/sales_order_22.sql  \n",
            "  inflating: scripts/sales_order_23.sql  \n",
            "  inflating: scripts/sales_order_attributes.sql  \n",
            "  inflating: scripts/sales_order_attribute_sk.sql  \n",
            "  inflating: scripts/sales_order_fact_23.sql  \n",
            "  inflating: scripts/sales_order_initial.sql  \n",
            "  inflating: scripts/sales_order_quantity_data.sql  \n",
            "  inflating: scripts/sales_order_regular.sql  \n",
            "  inflating: scripts/scd1.sql        \n",
            "  inflating: scripts/scd2.sql        \n",
            "  inflating: scripts/segmentation.sql  \n",
            "  inflating: scripts/shipping_address.sql  \n",
            "  inflating: scripts/source_date.sql  \n",
            "  inflating: scripts/special_dates.sql  \n",
            "  inflating: scripts/table_alias.sql  \n",
            "  inflating: scripts/third_star_tables.sql  \n",
            "  inflating: scripts/track_launch_expiry.sql  \n",
            "  inflating: scripts/truncate_tables.sql  \n",
            "  inflating: scripts/two_more_customers.sql  \n",
            "  inflating: scripts/zip_code_dim.sql  \n",
            "  inflating: scripts/zip_code_population.sql  \n",
            "  inflating: scripts/zip_code_stg.sql  \n",
            "   creating: source_data/\n",
            "  inflating: source_data/campaign_session.csv  \n",
            "  inflating: source_data/customer10.csv  \n",
            "  inflating: source_data/customer2.csv  \n",
            "  inflating: source_data/customer23.csv  \n",
            "  inflating: source_data/customer8.csv  \n",
            "  inflating: source_data/factory19.csv  \n",
            "  inflating: source_data/factory23.csv  \n",
            "  inflating: source_data/non_straight_campaign.csv  \n",
            "  inflating: source_data/product2-1.txt  \n",
            "  inflating: source_data/product2-2.txt  \n",
            "  inflating: source_data/product21.txt  \n",
            "  inflating: source_data/product8.txt  \n",
            "  inflating: source_data/promo_schedule.csv  \n",
            "  inflating: source_data/ragged_campaign.csv  \n",
            "  inflating: source_data/readme 1st for data.txt  \n",
            "  inflating: source_data/zip_code.csv  \n"
          ]
        }
      ],
      "source": [
        "#!unzip 9780975212820.zip\n",
        "!unzip dwCode.zip"
      ]
    },
    {
      "cell_type": "markdown",
      "metadata": {
        "id": "Zil5Adr9VaBJ"
      },
      "source": [
        "#Part 1 - Fundamentals"
      ]
    },
    {
      "cell_type": "markdown",
      "metadata": {
        "id": "QEpHP07dO4rw"
      },
      "source": [
        "## Chapter 1 Initial Setup"
      ]
    },
    {
      "cell_type": "code",
      "execution_count": null,
      "metadata": {
        "id": "cSLD3G1wO8jU",
        "colab": {
          "base_uri": "https://localhost:8080/"
        },
        "outputId": "723f0976-b321-468f-fc32-17dbf819dfb0"
      },
      "outputs": [
        {
          "output_type": "stream",
          "name": "stdout",
          "text": [
            "ERROR 1064 (42000) at line 7: You have an error in your SQL syntax; check the manual that corresponds to your MySQL server version for the right syntax to use near 'IDENTIFIED BY 'pw'' at line 1\n"
          ]
        }
      ],
      "source": [
        "#Create User ID\n",
        "#!cat scripts/create_user_id.sql\n",
        "!mysql < scripts/create_user_id.sql"
      ]
    },
    {
      "cell_type": "code",
      "execution_count": null,
      "metadata": {
        "colab": {
          "base_uri": "https://localhost:8080/"
        },
        "id": "lTv3xq9zPpfN",
        "outputId": "62ad4a51-eb36-44f2-a08f-e053b8dc42d3"
      },
      "outputs": [
        {
          "output_type": "stream",
          "name": "stdout",
          "text": [
            "mysql: [Warning] Using a password on the command line interface can be insecure.\n",
            "ERROR 1045 (28000): Access denied for user 'dwid'@'localhost' (using password: YES)\n"
          ]
        }
      ],
      "source": [
        "#!cat scripts/create_databases.sql\n",
        "!mysql -udwid -ppw < scripts/create_databases.sql"
      ]
    },
    {
      "cell_type": "code",
      "execution_count": null,
      "metadata": {
        "colab": {
          "base_uri": "https://localhost:8080/"
        },
        "id": "rHQbTlYeQK9i",
        "outputId": "f18ee785-527a-4cc4-d404-f9d17b1fcfa0"
      },
      "outputs": [
        {
          "output_type": "stream",
          "name": "stdout",
          "text": [
            "mysql: [Warning] Using a password on the command line interface can be insecure.\n",
            "ERROR 1045 (28000): Access denied for user 'dwid'@'localhost' (using password: YES)\n"
          ]
        }
      ],
      "source": [
        "#!cat scripts/create_dw_tables.sql\n",
        "!mysql -udwid -ppw < scripts/create_dw_tables.sql"
      ]
    },
    {
      "cell_type": "code",
      "execution_count": null,
      "metadata": {
        "colab": {
          "base_uri": "https://localhost:8080/"
        },
        "id": "iokF4U1yT4i-",
        "outputId": "d7fbce3a-b188-4ec9-aa19-1f06d39adfeb"
      },
      "outputs": [
        {
          "output_type": "stream",
          "name": "stdout",
          "text": [
            "ERROR 1049 (42000): Unknown database 'dw'\n"
          ]
        }
      ],
      "source": [
        "!mysql dw -e \"show tables\""
      ]
    },
    {
      "cell_type": "code",
      "execution_count": null,
      "metadata": {
        "colab": {
          "base_uri": "https://localhost:8080/"
        },
        "id": "pwpjWuikUj-E",
        "outputId": "15938773-bc6f-4e04-c4ad-7fe2eeae4a92"
      },
      "outputs": [
        {
          "output_type": "stream",
          "name": "stdout",
          "text": [
            "mysql: [Warning] Using a password on the command line interface can be insecure.\n",
            "ERROR 1045 (28000): Access denied for user 'dwid'@'localhost' (using password: YES)\n"
          ]
        }
      ],
      "source": [
        "!mysql -udwid -ppw < scripts/customer_sk.sql"
      ]
    },
    {
      "cell_type": "code",
      "execution_count": null,
      "metadata": {
        "colab": {
          "base_uri": "https://localhost:8080/"
        },
        "id": "kjlbWVCtUpoA",
        "outputId": "cbcb439b-c5ea-44e7-9784-c5f75d07c01a"
      },
      "outputs": [
        {
          "output_type": "stream",
          "name": "stdout",
          "text": [
            "mysql: [Warning] Using a password on the command line interface can be insecure.\n"
          ]
        }
      ],
      "source": [
        "!mysql -udwid -ppw < scripts/more_customer_sk.sql"
      ]
    },
    {
      "cell_type": "code",
      "execution_count": null,
      "metadata": {
        "colab": {
          "base_uri": "https://localhost:8080/"
        },
        "id": "WWihWfsgVBOI",
        "outputId": "f95d0204-72b7-4d1c-a1c7-5f794ea42408"
      },
      "outputs": [
        {
          "output_type": "stream",
          "name": "stdout",
          "text": [
            "+-------------+-----------------+------------------+-------------------------+-------------------+---------------+----------------+----------------+-------------+\n",
            "| customer_sk | customer_number | customer_name    | customer_street_address | customer_zip_code | customer_city | customer_state | effective_date | expiry_date |\n",
            "+-------------+-----------------+------------------+-------------------------+-------------------+---------------+----------------+----------------+-------------+\n",
            "|           1 |               1 | Big Customers    | 7500 Louise Dr.         |             17050 | Mechanicsburg | PA             | 2022-09-29     | 9999-12-31  |\n",
            "|           2 |               2 | Small Stores     | 2500 Woodland St.       |             17055 | Pittsburgh    | PA             | 2022-09-29     | 9999-12-31  |\n",
            "|           3 |               3 | Medium Retailers | 1111 Ritter Rd.         |             17055 | Pittsburgh    | PA             | 2022-09-29     | 9999-12-31  |\n",
            "|           4 |               4 | Good Companies   | 9500 Scott St.          |             17050 | Mechanicsburg | PA             | 2022-09-29     | 9999-12-31  |\n",
            "|           5 |               5 | Wonderful Shops  | 3333 Rossmoyne Rd.      |             17050 | Mechanicsburg | PA             | 2022-09-29     | 9999-12-31  |\n",
            "|           6 |               6 | Loyal Clients    | 7070 Ritter Rd.         |             17055 | Pittsburgh    | PA             | 2022-09-29     | 9999-12-31  |\n",
            "+-------------+-----------------+------------------+-------------------------+-------------------+---------------+----------------+----------------+-------------+\n"
          ]
        }
      ],
      "source": [
        "!mysql dw -e \"select * from customer_dim\""
      ]
    },
    {
      "cell_type": "code",
      "execution_count": null,
      "metadata": {
        "id": "bn6YCvqjVJEN"
      },
      "outputs": [],
      "source": [
        "#since it was not possible to set the system date on Colab, the date was changed manually\n",
        "!mysql dw -e \"update customer_dim set effective_date = '2007-02-01' \""
      ]
    },
    {
      "cell_type": "code",
      "execution_count": null,
      "metadata": {
        "colab": {
          "base_uri": "https://localhost:8080/"
        },
        "id": "WpU7UNyz6M1H",
        "outputId": "8055aca0-d788-4a96-c851-99a579ea43b6"
      },
      "outputs": [
        {
          "output_type": "stream",
          "name": "stdout",
          "text": [
            "+-------------+-----------------+------------------+-------------------------+-------------------+---------------+----------------+----------------+-------------+\n",
            "| customer_sk | customer_number | customer_name    | customer_street_address | customer_zip_code | customer_city | customer_state | effective_date | expiry_date |\n",
            "+-------------+-----------------+------------------+-------------------------+-------------------+---------------+----------------+----------------+-------------+\n",
            "|           1 |               1 | Big Customers    | 7500 Louise Dr.         |             17050 | Mechanicsburg | PA             | 2007-02-01     | 9999-12-31  |\n",
            "|           2 |               2 | Small Stores     | 2500 Woodland St.       |             17055 | Pittsburgh    | PA             | 2007-02-01     | 9999-12-31  |\n",
            "|           3 |               3 | Medium Retailers | 1111 Ritter Rd.         |             17055 | Pittsburgh    | PA             | 2007-02-01     | 9999-12-31  |\n",
            "|           4 |               4 | Good Companies   | 9500 Scott St.          |             17050 | Mechanicsburg | PA             | 2007-02-01     | 9999-12-31  |\n",
            "|           5 |               5 | Wonderful Shops  | 3333 Rossmoyne Rd.      |             17050 | Mechanicsburg | PA             | 2007-02-01     | 9999-12-31  |\n",
            "|           6 |               6 | Loyal Clients    | 7070 Ritter Rd.         |             17055 | Pittsburgh    | PA             | 2007-02-01     | 9999-12-31  |\n",
            "+-------------+-----------------+------------------+-------------------------+-------------------+---------------+----------------+----------------+-------------+\n"
          ]
        }
      ],
      "source": [
        "!mysql dw -e \"select * from customer_dim\""
      ]
    },
    {
      "cell_type": "markdown",
      "metadata": {
        "id": "xuSRohQGOg0O"
      },
      "source": [
        "# Chapter 2 Dimension History"
      ]
    },
    {
      "cell_type": "code",
      "execution_count": null,
      "metadata": {
        "colab": {
          "base_uri": "https://localhost:8080/"
        },
        "id": "N-aLmtSpBtye",
        "outputId": "91ccf32e-60e9-4cd4-f666-98ec4fb7d5bf"
      },
      "outputs": [
        {
          "output_type": "stream",
          "name": "stdout",
          "text": [
            "mysql: [Warning] Using a password on the command line interface can be insecure.\n",
            "ERROR 1290 (HY000) at line 26: The MySQL server is running with the --secure-file-priv option so it cannot execute this statement\n"
          ]
        }
      ],
      "source": [
        "# creating the customer_stg table\n",
        "!mysql -udwid -ppw < scripts/create_customer_stg.sql"
      ]
    },
    {
      "cell_type": "code",
      "execution_count": null,
      "metadata": {
        "colab": {
          "base_uri": "https://localhost:8080/"
        },
        "id": "L8sBQzxOB1cC",
        "outputId": "6414e1bc-f76d-426b-cf28-86fd55cceb64"
      },
      "outputs": [
        {
          "output_type": "stream",
          "name": "stdout",
          "text": [
            "mysql: [Warning] Using a password on the command line interface can be insecure.\n"
          ]
        }
      ],
      "source": [
        "# Applying SCD1 to the customer names in customer_dim \n",
        "!mysql -udwid -ppw < scripts/scd1.sql"
      ]
    },
    {
      "cell_type": "code",
      "execution_count": null,
      "metadata": {
        "id": "wylQ5PaKMEJG"
      },
      "outputs": [],
      "source": [
        "!mysql dw -e \"select * from customer_stg\""
      ]
    },
    {
      "cell_type": "code",
      "execution_count": null,
      "metadata": {
        "colab": {
          "base_uri": "https://localhost:8080/"
        },
        "id": "bKxnn9NfL6Od",
        "outputId": "86e1c4bd-2349-49d1-eab4-f26ab2c63af7"
      },
      "outputs": [
        {
          "output_type": "stream",
          "name": "stdout",
          "text": [
            "*************************** 1. row ***************************\n",
            "            customer_sk: 1\n",
            "        customer_number: 1\n",
            "          customer_name: Big Customers\n",
            "customer_street_address: 7500 Louise Dr.\n",
            "      customer_zip_code: 17050\n",
            "          customer_city: Mechanicsburg\n",
            "         customer_state: PA\n",
            "         effective_date: 2007-02-01\n",
            "            expiry_date: 9999-12-31\n",
            "*************************** 2. row ***************************\n",
            "            customer_sk: 2\n",
            "        customer_number: 2\n",
            "          customer_name: Small Stores\n",
            "customer_street_address: 2500 Woodland St.\n",
            "      customer_zip_code: 17055\n",
            "          customer_city: Pittsburgh\n",
            "         customer_state: PA\n",
            "         effective_date: 2007-02-01\n",
            "            expiry_date: 9999-12-31\n",
            "*************************** 3. row ***************************\n",
            "            customer_sk: 3\n",
            "        customer_number: 3\n",
            "          customer_name: Medium Retailers\n",
            "customer_street_address: 1111 Ritter Rd.\n",
            "      customer_zip_code: 17055\n",
            "          customer_city: Pittsburgh\n",
            "         customer_state: PA\n",
            "         effective_date: 2007-02-01\n",
            "            expiry_date: 9999-12-31\n",
            "*************************** 4. row ***************************\n",
            "            customer_sk: 4\n",
            "        customer_number: 4\n",
            "          customer_name: Good Companies\n",
            "customer_street_address: 9500 Scott St.\n",
            "      customer_zip_code: 17050\n",
            "          customer_city: Mechanicsburg\n",
            "         customer_state: PA\n",
            "         effective_date: 2007-02-01\n",
            "            expiry_date: 9999-12-31\n",
            "*************************** 5. row ***************************\n",
            "            customer_sk: 5\n",
            "        customer_number: 5\n",
            "          customer_name: Wonderful Shops\n",
            "customer_street_address: 3333 Rossmoyne Rd.\n",
            "      customer_zip_code: 17050\n",
            "          customer_city: Mechanicsburg\n",
            "         customer_state: PA\n",
            "         effective_date: 2007-02-01\n",
            "            expiry_date: 9999-12-31\n",
            "*************************** 6. row ***************************\n",
            "            customer_sk: 6\n",
            "        customer_number: 6\n",
            "          customer_name: Loyal Clients\n",
            "customer_street_address: 7070 Ritter Rd.\n",
            "      customer_zip_code: 17055\n",
            "          customer_city: Pittsburgh\n",
            "         customer_state: PA\n",
            "         effective_date: 2007-02-01\n",
            "            expiry_date: 9999-12-31\n"
          ]
        }
      ],
      "source": [
        "# Contents of the table\n",
        "!mysql dw -e \"select * from customer_dim \\G\""
      ]
    },
    {
      "cell_type": "code",
      "execution_count": null,
      "metadata": {
        "colab": {
          "base_uri": "https://localhost:8080/"
        },
        "id": "R6EZfWBAMt_a",
        "outputId": "586f79c0-f223-4ef2-b7fa-c52092cef32c"
      },
      "outputs": [
        {
          "output_type": "stream",
          "name": "stdout",
          "text": [
            "mysql: [Warning] Using a password on the command line interface can be insecure.\n"
          ]
        }
      ],
      "source": [
        "# Create table product_stg\n",
        "!mysql -udwid -ppw < scripts/create_product_stg.sql"
      ]
    },
    {
      "cell_type": "code",
      "execution_count": null,
      "metadata": {
        "colab": {
          "base_uri": "https://localhost:8080/"
        },
        "id": "MWjQ6WK0Pegs",
        "outputId": "f05b2189-d3c8-447a-e1d8-102b78d76e73"
      },
      "outputs": [
        {
          "output_type": "stream",
          "name": "stdout",
          "text": [
            "mysql: [Warning] Using a password on the command line interface can be insecure.\n",
            "ERROR 1290 (HY000) at line 17: The MySQL server is running with the --secure-file-priv option so it cannot execute this statement\n"
          ]
        }
      ],
      "source": [
        "# loading the data in product_stg\n",
        "!mysql -udwid -ppw < scripts/load_product_stg.sql"
      ]
    },
    {
      "cell_type": "code",
      "execution_count": null,
      "metadata": {
        "id": "0lr94q61QzL0"
      },
      "outputs": [],
      "source": [
        "!mysql dw -e \"select * from product_stg\""
      ]
    },
    {
      "cell_type": "code",
      "source": [
        "!mysql dw -e \"select * from product_dim\""
      ],
      "metadata": {
        "id": "j9lZGmoy32ty"
      },
      "execution_count": null,
      "outputs": []
    },
    {
      "cell_type": "code",
      "execution_count": null,
      "metadata": {
        "colab": {
          "base_uri": "https://localhost:8080/"
        },
        "id": "myRwDOzyPsvU",
        "outputId": "eaa367e8-e4e0-4e84-9136-c5ddd0a8da60"
      },
      "outputs": [
        {
          "output_type": "stream",
          "name": "stdout",
          "text": [
            "mysql: [Warning] Using a password on the command line interface can be insecure.\n"
          ]
        }
      ],
      "source": [
        "# Applying SCD2 to the product in product_dim \n",
        "!mysql -udwid -ppw < scripts/scd2.sql"
      ]
    },
    {
      "cell_type": "code",
      "execution_count": null,
      "metadata": {
        "id": "8audSiDYPnvZ"
      },
      "outputs": [],
      "source": [
        "!mysql dw -e \"select * from product_dim \\G\""
      ]
    },
    {
      "cell_type": "code",
      "source": [
        "!mysql dw -e \"update product_dim set effective_date = '2007-02-03'\""
      ],
      "metadata": {
        "id": "-NwrXWUg9b2M"
      },
      "execution_count": null,
      "outputs": []
    },
    {
      "cell_type": "code",
      "source": [
        "!mysql dw -e \"select * from product_dim \\G\""
      ],
      "metadata": {
        "id": "yTBnbanu9nkF"
      },
      "execution_count": null,
      "outputs": []
    },
    {
      "cell_type": "code",
      "execution_count": null,
      "metadata": {
        "id": "3MqAgdvNQP41",
        "colab": {
          "base_uri": "https://localhost:8080/"
        },
        "outputId": "bfd37b73-fdee-4ad6-b063-f369f09a8cdb"
      },
      "outputs": [
        {
          "output_type": "stream",
          "name": "stdout",
          "text": [
            "mysql: [Warning] Using a password on the command line interface can be insecure.\n",
            "ERROR 1290 (HY000) at line 17: The MySQL server is running with the --secure-file-priv option so it cannot execute this statement\n"
          ]
        }
      ],
      "source": [
        "# loading the more data in product_stg\n",
        "!mysql -udwid -ppw < scripts/load_product_stg.sql"
      ]
    },
    {
      "cell_type": "code",
      "source": [
        "!mysql dw -e \"select * from product_stg\""
      ],
      "metadata": {
        "id": "drpEryTX6QO7"
      },
      "execution_count": null,
      "outputs": []
    },
    {
      "cell_type": "code",
      "source": [
        "!mysql dw -e \"select * from product_dim\""
      ],
      "metadata": {
        "id": "6-OujR44FaL2"
      },
      "execution_count": null,
      "outputs": []
    },
    {
      "cell_type": "code",
      "source": [
        "# Applying SCD2 to the product in product_dim \n",
        "!mysql -udwid -ppw < scripts/scd2.sql"
      ],
      "metadata": {
        "colab": {
          "base_uri": "https://localhost:8080/"
        },
        "id": "MU2SGF5e6SMI",
        "outputId": "fcf67bff-96a5-4a83-f329-4d034eefb986"
      },
      "execution_count": null,
      "outputs": [
        {
          "output_type": "stream",
          "name": "stdout",
          "text": [
            "mysql: [Warning] Using a password on the command line interface can be insecure.\n"
          ]
        }
      ]
    },
    {
      "cell_type": "code",
      "source": [
        "!mysql dw -e \"select * from product_dim \\G\""
      ],
      "metadata": {
        "id": "G09JcLIx6Y9J"
      },
      "execution_count": null,
      "outputs": []
    },
    {
      "cell_type": "code",
      "source": [
        "!mysql dw -e \"update product_dim set effective_date = '2007-02-03'\""
      ],
      "metadata": {
        "id": "51IN7ixH-Ve6"
      },
      "execution_count": null,
      "outputs": []
    },
    {
      "cell_type": "code",
      "source": [
        "!mysql dw -e \"select * from product_dim \\G\""
      ],
      "metadata": {
        "id": "nIwxZ-N6-Ygw"
      },
      "execution_count": null,
      "outputs": []
    },
    {
      "cell_type": "markdown",
      "source": [
        "# Chapter 3 Measure Additivity\n"
      ],
      "metadata": {
        "id": "sUirdgZZDBjx"
      }
    },
    {
      "cell_type": "code",
      "source": [
        "# Load data into order_dim table\n",
        "!mysql -udwid -ppw < scripts/additive_data.sql"
      ],
      "metadata": {
        "colab": {
          "base_uri": "https://localhost:8080/"
        },
        "id": "kOlPLxP3DKRB",
        "outputId": "646ae64c-a2f9-4a72-847c-022c0bf8cc9f"
      },
      "execution_count": null,
      "outputs": [
        {
          "output_type": "stream",
          "name": "stdout",
          "text": [
            "mysql: [Warning] Using a password on the command line interface can be insecure.\n"
          ]
        }
      ]
    },
    {
      "cell_type": "code",
      "source": [
        "!mysql dw -e \"select * from order_dim\""
      ],
      "metadata": {
        "colab": {
          "base_uri": "https://localhost:8080/"
        },
        "id": "8qLjzKdJDskv",
        "outputId": "d053b375-d793-4741-d9dc-b8c159dd4b4a"
      },
      "execution_count": null,
      "outputs": [
        {
          "output_type": "stream",
          "name": "stdout",
          "text": [
            "+----------+--------------+----------------+-------------+\n",
            "| order_sk | order_number | effective_date | expiry_date |\n",
            "+----------+--------------+----------------+-------------+\n",
            "|        1 |            1 | 2022-09-29     | 9999-12-31  |\n",
            "|        2 |            2 | 2022-09-29     | 9999-12-31  |\n",
            "|        3 |            3 | 2022-09-29     | 9999-12-31  |\n",
            "|        4 |            4 | 2022-09-29     | 9999-12-31  |\n",
            "|        5 |            5 | 2022-09-29     | 9999-12-31  |\n",
            "|        6 |            6 | 2022-09-29     | 9999-12-31  |\n",
            "|        7 |            7 | 2022-09-29     | 9999-12-31  |\n",
            "|        8 |            8 | 2022-09-29     | 9999-12-31  |\n",
            "|        9 |            9 | 2022-09-29     | 9999-12-31  |\n",
            "|       10 |           10 | 2022-09-29     | 9999-12-31  |\n",
            "+----------+--------------+----------------+-------------+\n"
          ]
        }
      ]
    },
    {
      "cell_type": "code",
      "source": [
        "!mysql dw -e \"select * from date_dim\""
      ],
      "metadata": {
        "colab": {
          "base_uri": "https://localhost:8080/"
        },
        "id": "8dne_ltNDzG1",
        "outputId": "427f8121-c60d-489f-9e13-829967001875"
      },
      "execution_count": null,
      "outputs": [
        {
          "output_type": "stream",
          "name": "stdout",
          "text": [
            "+---------+------------+------------+-------+---------+------+----------------+-------------+\n",
            "| date_sk | date       | month_name | month | quarter | year | effective_date | expiry_date |\n",
            "+---------+------------+------------+-------+---------+------+----------------+-------------+\n",
            "|       1 | 2005-10-31 | October    |    10 |       4 | 2005 | 2022-09-29     | 9999-12-31  |\n",
            "+---------+------------+------------+-------+---------+------+----------------+-------------+\n"
          ]
        }
      ]
    },
    {
      "cell_type": "code",
      "source": [
        "!mysql dw -e \"select * from sales_order_fact\""
      ],
      "metadata": {
        "colab": {
          "base_uri": "https://localhost:8080/"
        },
        "id": "1i0y6Qb4D6ZV",
        "outputId": "b1c5572d-dfbf-4764-9606-a050cd8e17b1"
      },
      "execution_count": null,
      "outputs": [
        {
          "output_type": "stream",
          "name": "stdout",
          "text": [
            "+----------+-------------+------------+---------------+--------------+\n",
            "| order_sk | customer_sk | product_sk | order_date_sk | order_amount |\n",
            "+----------+-------------+------------+---------------+--------------+\n",
            "|        1 |           1 |          2 |             1 |      1000.00 |\n",
            "|        2 |           2 |          3 |             1 |      1000.00 |\n",
            "|        3 |           3 |          4 |             1 |      4000.00 |\n",
            "|        4 |           4 |          2 |             1 |      4000.00 |\n",
            "|        5 |           5 |          3 |             1 |      6000.00 |\n",
            "|        6 |           1 |          4 |             1 |      6000.00 |\n",
            "|        7 |           2 |          2 |             1 |      8000.00 |\n",
            "|        8 |           3 |          3 |             1 |      8000.00 |\n",
            "|        9 |           4 |          4 |             1 |     10000.00 |\n",
            "|       10 |           5 |          2 |             1 |     10000.00 |\n",
            "+----------+-------------+------------+---------------+--------------+\n"
          ]
        }
      ]
    },
    {
      "cell_type": "code",
      "source": [
        "# Quering across all dimensions\n",
        "!mysql -udwid -ppw < scripts/across_all_dimensions.sql"
      ],
      "metadata": {
        "colab": {
          "base_uri": "https://localhost:8080/"
        },
        "id": "s9U0GC3zEKBH",
        "outputId": "7769a59b-1b07-4826-d2a8-66a228db73ab"
      },
      "execution_count": null,
      "outputs": [
        {
          "output_type": "stream",
          "name": "stdout",
          "text": [
            "mysql: [Warning] Using a password on the command line interface can be insecure.\n",
            "sum_of_order_amount\n",
            "58000.00\n"
          ]
        }
      ]
    },
    {
      "cell_type": "code",
      "source": [
        "# Querying across the date, product, and order \n",
        "!mysql -udwid -ppw < scripts/across_date_product.sql"
      ],
      "metadata": {
        "colab": {
          "base_uri": "https://localhost:8080/"
        },
        "id": "Pst72ZeRE5JU",
        "outputId": "e71dbfb7-f60f-4fbf-ef09-fb6c7ae0a4ad"
      },
      "execution_count": null,
      "outputs": [
        {
          "output_type": "stream",
          "name": "stdout",
          "text": [
            "mysql: [Warning] Using a password on the command line interface can be insecure.\n",
            "customer_number\tsum_of_order_amount\n",
            "1\t7000.00\n",
            "2\t9000.00\n",
            "3\t12000.00\n",
            "4\t14000.00\n",
            "5\t16000.00\n"
          ]
        }
      ]
    },
    {
      "cell_type": "code",
      "source": [
        "# Querying across the date, customer, and order \n",
        "!mysql -udwid -ppw < scripts/across_date_customer.sql"
      ],
      "metadata": {
        "colab": {
          "base_uri": "https://localhost:8080/"
        },
        "id": "e1nm7Df6FFP1",
        "outputId": "38f27b1f-0b11-4651-fd4f-0308957c12d9"
      },
      "execution_count": null,
      "outputs": [
        {
          "output_type": "stream",
          "name": "stdout",
          "text": [
            "mysql: [Warning] Using a password on the command line interface can be insecure.\n"
          ]
        }
      ]
    },
    {
      "cell_type": "code",
      "source": [
        "# Querying across the date and order \n",
        "!mysql -udwid -ppw < scripts/across_date.sql"
      ],
      "metadata": {
        "colab": {
          "base_uri": "https://localhost:8080/"
        },
        "id": "KQlMBvuxFwvQ",
        "outputId": "2ab5e2b5-3514-41f7-ee06-2d216b31591b"
      },
      "execution_count": null,
      "outputs": [
        {
          "output_type": "stream",
          "name": "stdout",
          "text": [
            "mysql: [Warning] Using a password on the command line interface can be insecure.\n"
          ]
        }
      ]
    },
    {
      "cell_type": "markdown",
      "source": [
        "# Chapter 4 Dimensional Queries\n"
      ],
      "metadata": {
        "id": "u4HmzZJvG6jF"
      }
    },
    {
      "cell_type": "code",
      "source": [
        "# Script for that adds data for testing dimensional queries \n",
        "!mysql -udwid -ppw < scripts/dimensional_query_data.sql"
      ],
      "metadata": {
        "colab": {
          "base_uri": "https://localhost:8080/"
        },
        "id": "y26lHNG8HMGi",
        "outputId": "7a097569-1060-4ac4-cb7c-7305fdc19c27"
      },
      "execution_count": null,
      "outputs": [
        {
          "output_type": "stream",
          "name": "stdout",
          "text": [
            "mysql: [Warning] Using a password on the command line interface can be insecure.\n"
          ]
        }
      ]
    },
    {
      "cell_type": "code",
      "source": [
        "# Daily Aggregation   #to insert Use dw  for database use\n",
        "!mysql -udwid -ppw < scripts/daily_aggregation.sql"
      ],
      "metadata": {
        "colab": {
          "base_uri": "https://localhost:8080/"
        },
        "id": "lsP-a0PaHoE2",
        "outputId": "7279154e-7ef4-4371-dd9b-35c9beca11ed"
      },
      "execution_count": null,
      "outputs": [
        {
          "output_type": "stream",
          "name": "stdout",
          "text": [
            "mysql: [Warning] Using a password on the command line interface can be insecure.\n",
            "ERROR 1046 (3D000) at line 7: No database selected\n"
          ]
        }
      ]
    },
    {
      "cell_type": "code",
      "source": [
        "# Annual Aggregation #to insert Use dw  for database use\n",
        "!mysql -udwid -ppw < scripts/annual_aggregation.sql"
      ],
      "metadata": {
        "colab": {
          "base_uri": "https://localhost:8080/"
        },
        "id": "ggkauI-LIPG1",
        "outputId": "55fe2126-11a5-43f5-fc00-36dde00adb81"
      },
      "execution_count": null,
      "outputs": [
        {
          "output_type": "stream",
          "name": "stdout",
          "text": [
            "mysql: [Warning] Using a password on the command line interface can be insecure.\n",
            "ERROR 1046 (3D000) at line 7: No database selected\n"
          ]
        }
      ]
    },
    {
      "cell_type": "code",
      "source": [
        "# Specific query (monthly storage product sales) \n",
        "!mysql -udwid -ppw < scripts/monthly_storage.sql"
      ],
      "metadata": {
        "colab": {
          "base_uri": "https://localhost:8080/"
        },
        "id": "NbMWZJueIzzQ",
        "outputId": "1aad4c40-0b02-4174-8511-74f04ec5455e"
      },
      "execution_count": null,
      "outputs": [
        {
          "output_type": "stream",
          "name": "stdout",
          "text": [
            "mysql: [Warning] Using a password on the command line interface can be insecure.\n"
          ]
        }
      ]
    },
    {
      "cell_type": "code",
      "source": [
        "# Specific query (quarterly sales in Mechanicsburg) \n",
        "!mysql -udwid -ppw < scripts/quarterly_mechanicsburg.sql"
      ],
      "metadata": {
        "colab": {
          "base_uri": "https://localhost:8080/"
        },
        "id": "0-lLhiQtJF6O",
        "outputId": "1a68b03c-fbb9-490c-ebfa-8f163e7ec409"
      },
      "execution_count": null,
      "outputs": [
        {
          "output_type": "stream",
          "name": "stdout",
          "text": [
            "mysql: [Warning] Using a password on the command line interface can be insecure.\n",
            "customer_city\tquarter\tyear\tSUM(order_amount)\tCOUNT(order_sk)\n",
            "Mechanicsburg\t4\t2005\t177000.00\t10\n"
          ]
        }
      ]
    },
    {
      "cell_type": "code",
      "source": [
        "!mysql dw -e \"SELECT month_name, year, product_name, SUM(order_amount), COUNT(*) FROM sales_order_fact a, product_dim b, date_dim c WHERE a.product_sk = b.product_sk AND a.order_date_sk = c.date_sk GROUP BY month_name, year, product_name HAVING SUM(order_amount) >= 75000 ORDER BY month_name, year, product_name\""
      ],
      "metadata": {
        "id": "K_4qYLZ8KZER"
      },
      "execution_count": null,
      "outputs": []
    },
    {
      "cell_type": "code",
      "source": [
        "!mysql dw -e \"select * from date_dim\""
      ],
      "metadata": {
        "colab": {
          "base_uri": "https://localhost:8080/"
        },
        "id": "NySQS88rK4aU",
        "outputId": "b497f194-2533-4c21-88e0-40ce4e806aa8"
      },
      "execution_count": null,
      "outputs": [
        {
          "output_type": "stream",
          "name": "stdout",
          "text": [
            "+---------+------------+------------+-------+---------+------+----------------+-------------+\n",
            "| date_sk | date       | month_name | month | quarter | year | effective_date | expiry_date |\n",
            "+---------+------------+------------+-------+---------+------+----------------+-------------+\n",
            "|       1 | 2005-10-31 | October    |    10 |       4 | 2005 | 2022-09-29     | 9999-12-31  |\n",
            "|       2 | 2005-11-01 | November   |    11 |       4 | 2005 | 2022-09-29     | 9999-12-31  |\n",
            "+---------+------------+------------+-------+---------+------+----------------+-------------+\n"
          ]
        }
      ]
    },
    {
      "cell_type": "code",
      "source": [
        "# Inside-out - Monthly Product Performer # correct the month at 23rd line\n",
        "!mysql -udwid -ppw < scripts/monthly_product_performer.sql"
      ],
      "metadata": {
        "colab": {
          "base_uri": "https://localhost:8080/"
        },
        "id": "qm8LgdXgMHL3",
        "outputId": "4cb996cc-b800-424b-c6d2-58b9c5591bae"
      },
      "execution_count": null,
      "outputs": [
        {
          "output_type": "stream",
          "name": "stdout",
          "text": [
            "mysql: [Warning] Using a password on the command line interface can be insecure.\n",
            "ERROR 1055 (42000) at line 9: Expression #1 of ORDER BY clause is not in GROUP BY clause and contains nonaggregated column 'dw.c.month' which is not functionally dependent on columns in GROUP BY clause; this is incompatible with sql_mode=only_full_group_by\n"
          ]
        }
      ]
    },
    {
      "cell_type": "code",
      "source": [
        "#  Inside-out (loyal customer) \n",
        "!mysql -udwid -ppw < scripts/loyal_customer.sql"
      ],
      "metadata": {
        "colab": {
          "base_uri": "https://localhost:8080/"
        },
        "id": "taMIvPwoQl-6",
        "outputId": "79d0f1e1-9c3f-48a3-90fd-ecb082b2a56c"
      },
      "execution_count": null,
      "outputs": [
        {
          "output_type": "stream",
          "name": "stdout",
          "text": [
            "mysql: [Warning] Using a password on the command line interface can be insecure.\n",
            "customer_number\tyear\tCOUNT(*)\n",
            "1\t2005\t4\n"
          ]
        }
      ]
    },
    {
      "cell_type": "markdown",
      "source": [
        "# Part 2: Extract, Transform and Load\n"
      ],
      "metadata": {
        "id": "zQLz5XQtRW6Z"
      }
    },
    {
      "cell_type": "markdown",
      "source": [
        "# Chapter 5 Source Extraction"
      ],
      "metadata": {
        "id": "GdxqFyiGRhcF"
      }
    },
    {
      "cell_type": "code",
      "source": [
        "# Push CDC sales orders \n",
        "!mysql -udwid -ppw < scripts/push_sales_order.sql"
      ],
      "metadata": {
        "colab": {
          "base_uri": "https://localhost:8080/"
        },
        "id": "sszt0J3JRpTw",
        "outputId": "a148567e-ee20-4538-cbb6-d0425efad919"
      },
      "execution_count": null,
      "outputs": [
        {
          "output_type": "stream",
          "name": "stdout",
          "text": [
            "mysql: [Warning] Using a password on the command line interface can be insecure.\n"
          ]
        }
      ]
    },
    {
      "cell_type": "code",
      "source": [
        "!mysql dw -e \"show procedure status like 'push_sales_order' \\G;\""
      ],
      "metadata": {
        "colab": {
          "base_uri": "https://localhost:8080/"
        },
        "id": "LIE6_8R4RqHP",
        "outputId": "161c8b79-dfee-4237-f729-ad3af7f1e9e9"
      },
      "execution_count": null,
      "outputs": [
        {
          "output_type": "stream",
          "name": "stdout",
          "text": [
            "*************************** 1. row ***************************\n",
            "                  Db: source\n",
            "                Name: push_sales_order\n",
            "                Type: PROCEDURE\n",
            "             Definer: dwid@localhost\n",
            "            Modified: 2022-09-29 15:36:27\n",
            "             Created: 2022-09-29 15:36:27\n",
            "       Security_type: DEFINER\n",
            "             Comment: \n",
            "character_set_client: utf8\n",
            "collation_connection: utf8_general_ci\n",
            "  Database Collation: latin1_swedish_ci\n"
          ]
        }
      ]
    },
    {
      "cell_type": "code",
      "source": [
        "# Creating the sales_order table \n",
        "!mysql -udwid -ppw < scripts/create_sales_order.sql"
      ],
      "metadata": {
        "colab": {
          "base_uri": "https://localhost:8080/"
        },
        "id": "MlMyt8pHU5QL",
        "outputId": "f0e7bcb6-b12e-496a-a9ad-e3a9de056794"
      },
      "execution_count": null,
      "outputs": [
        {
          "output_type": "stream",
          "name": "stdout",
          "text": [
            "mysql: [Warning] Using a password on the command line interface can be insecure.\n"
          ]
        }
      ]
    },
    {
      "cell_type": "code",
      "source": [
        "# Data for testing Push mode  \n",
        "!mysql -udwid -ppw < scripts/push_data.sql"
      ],
      "metadata": {
        "colab": {
          "base_uri": "https://localhost:8080/"
        },
        "id": "lzZ6x8qsV9Q5",
        "outputId": "bb8fbb03-7e12-43c6-d355-3a4700212308"
      },
      "execution_count": null,
      "outputs": [
        {
          "output_type": "stream",
          "name": "stdout",
          "text": [
            "mysql: [Warning] Using a password on the command line interface can be insecure.\n"
          ]
        }
      ]
    },
    {
      "cell_type": "code",
      "source": [
        "# Change database\n",
        "!mysql dw -e \"use source;\""
      ],
      "metadata": {
        "id": "UmXKyJhGWLQI"
      },
      "execution_count": null,
      "outputs": []
    },
    {
      "cell_type": "code",
      "source": [
        "!mysql source -e \"call push_sales_order();\""
      ],
      "metadata": {
        "id": "ghkwRpPtWVoU"
      },
      "execution_count": null,
      "outputs": []
    },
    {
      "cell_type": "code",
      "source": [
        "# Change database\n",
        "!mysql source -e \"use dw;\""
      ],
      "metadata": {
        "id": "QCnsexmXWhSq"
      },
      "execution_count": null,
      "outputs": []
    },
    {
      "cell_type": "code",
      "source": [
        "!mysql dw -e \"select * from sales_order_fact;\""
      ],
      "metadata": {
        "colab": {
          "base_uri": "https://localhost:8080/"
        },
        "id": "fFbOY01NWorZ",
        "outputId": "73378298-7acd-4db6-ddff-beb86cefa02f"
      },
      "execution_count": null,
      "outputs": [
        {
          "output_type": "stream",
          "name": "stdout",
          "text": [
            "+----------+-------------+------------+---------------+--------------+\n",
            "| order_sk | customer_sk | product_sk | order_date_sk | order_amount |\n",
            "+----------+-------------+------------+---------------+--------------+\n",
            "|        1 |           1 |          2 |             1 |      1000.00 |\n",
            "|        2 |           2 |          3 |             1 |      1000.00 |\n",
            "|        3 |           3 |          4 |             1 |      4000.00 |\n",
            "|        4 |           4 |          2 |             1 |      4000.00 |\n",
            "|        5 |           5 |          3 |             1 |      6000.00 |\n",
            "|        6 |           1 |          4 |             1 |      6000.00 |\n",
            "|        7 |           2 |          2 |             1 |      8000.00 |\n",
            "|        8 |           3 |          3 |             1 |      8000.00 |\n",
            "|        9 |           4 |          4 |             1 |     10000.00 |\n",
            "|       10 |           5 |          2 |             1 |     10000.00 |\n",
            "|       11 |           1 |          2 |             2 |     20000.00 |\n",
            "|       12 |           2 |          3 |             2 |     25000.00 |\n",
            "|       13 |           3 |          4 |             2 |     30000.00 |\n",
            "|       14 |           4 |          2 |             2 |     35000.00 |\n",
            "|       15 |           5 |          3 |             2 |     40000.00 |\n",
            "|       16 |           1 |          4 |             2 |     45000.00 |\n",
            "+----------+-------------+------------+---------------+--------------+\n"
          ]
        }
      ]
    },
    {
      "cell_type": "markdown",
      "source": [
        "# Chapter 6 Populating Date Dimension"
      ],
      "metadata": {
        "id": "eBtuxC4yW0VU"
      }
    },
    {
      "cell_type": "code",
      "source": [
        "# Stored procedure to pre-populate the date dimension #'0000-00-00' invalid date format\n",
        "!mysql -udwid -ppw < scripts/pre_populate_date.sql"
      ],
      "metadata": {
        "colab": {
          "base_uri": "https://localhost:8080/"
        },
        "id": "lpuomFblW7Ez",
        "outputId": "d3af728c-2891-4f1e-d6f8-e8df376a8bae"
      },
      "execution_count": null,
      "outputs": [
        {
          "output_type": "stream",
          "name": "stdout",
          "text": [
            "mysql: [Warning] Using a password on the command line interface can be insecure.\n"
          ]
        }
      ]
    },
    {
      "cell_type": "code",
      "source": [
        "!mysql dw -e \"show procedure status like 'pre_populate_date' \\G;\""
      ],
      "metadata": {
        "colab": {
          "base_uri": "https://localhost:8080/"
        },
        "id": "Zdck8SOxXHz4",
        "outputId": "88d1816b-98f7-4d31-ec37-3d115cc61604"
      },
      "execution_count": null,
      "outputs": [
        {
          "output_type": "stream",
          "name": "stdout",
          "text": [
            "*************************** 1. row ***************************\n",
            "                  Db: dw\n",
            "                Name: pre_populate_date\n",
            "                Type: PROCEDURE\n",
            "             Definer: dwid@localhost\n",
            "            Modified: 2022-09-29 15:37:07\n",
            "             Created: 2022-09-29 15:37:07\n",
            "       Security_type: DEFINER\n",
            "             Comment: \n",
            "character_set_client: utf8\n",
            "collation_connection: utf8_general_ci\n",
            "  Database Collation: latin1_swedish_ci\n"
          ]
        }
      ]
    },
    {
      "cell_type": "code",
      "source": [
        "!mysql dw -e \"truncate date_dim;\""
      ],
      "metadata": {
        "id": "RLuBHXYwXoBX"
      },
      "execution_count": null,
      "outputs": []
    },
    {
      "cell_type": "code",
      "source": [
        "!mysql dw -e \"SET sql_mode = 'allow_invalid_dates';\"\n"
      ],
      "metadata": {
        "id": "GqOjC71_uuEu"
      },
      "execution_count": null,
      "outputs": []
    },
    {
      "cell_type": "code",
      "source": [
        "# Stored procedure to pre-populate the date dimension (Effective_date having issue with 0000-00-00 / replaced with current_date)\n",
        "# !mysql -udwid -ppw < scripts/pre_populate_date.sql\n",
        "!mysql dw -e \"call pre_populate_date('2007-01-01', '2010-12-31');\""
      ],
      "metadata": {
        "id": "M0k1fCJoX1HA",
        "colab": {
          "base_uri": "https://localhost:8080/"
        },
        "outputId": "04ea4774-caa0-4e36-cff4-f319a439f56d"
      },
      "execution_count": null,
      "outputs": [
        {
          "output_type": "stream",
          "name": "stdout",
          "text": [
            "ERROR 1292 (22007) at line 1: Incorrect date value: '0000-00-00' for column 'effective_date' at row 1\n"
          ]
        }
      ]
    },
    {
      "cell_type": "code",
      "source": [
        "!mysql dw -e \"select count(0) from date_dim;\""
      ],
      "metadata": {
        "colab": {
          "base_uri": "https://localhost:8080/"
        },
        "id": "GIqtgJteqzbt",
        "outputId": "334e8114-a195-4253-f9d7-f6e541e97feb"
      },
      "execution_count": null,
      "outputs": [
        {
          "output_type": "stream",
          "name": "stdout",
          "text": [
            "+----------+\n",
            "| count(0) |\n",
            "+----------+\n",
            "|        0 |\n",
            "+----------+\n"
          ]
        }
      ]
    },
    {
      "cell_type": "code",
      "source": [
        "!mysql dw -e \"select * from date_dim limit 10 \\G\""
      ],
      "metadata": {
        "id": "HqkoSolRq6Uo"
      },
      "execution_count": null,
      "outputs": []
    },
    {
      "cell_type": "code",
      "source": [
        "# Daily date population   #Changed '0000-00-00' as its an incorrect date format\n",
        "!mysql -udwid -ppw < scripts/daily_date.sql"
      ],
      "metadata": {
        "colab": {
          "base_uri": "https://localhost:8080/"
        },
        "id": "KAexRBaFoGjM",
        "outputId": "c96d0c2e-b27a-4ee8-fc66-0372b45de7bb"
      },
      "execution_count": null,
      "outputs": [
        {
          "output_type": "stream",
          "name": "stdout",
          "text": [
            "mysql: [Warning] Using a password on the command line interface can be insecure.\n",
            "ERROR 1292 (22007) at line 9: Incorrect date value: '0000-00-00' for column 'effective_date' at row 1\n"
          ]
        }
      ]
    },
    {
      "cell_type": "code",
      "source": [
        "!mysql dw -e \"select * from date_dim  where date= '2007-02-07' \\G;\""
      ],
      "metadata": {
        "id": "kQfY7PODomGu"
      },
      "execution_count": null,
      "outputs": []
    },
    {
      "cell_type": "code",
      "source": [
        "# Loading dates from the source \n",
        "!mysql -udwid -ppw < scripts/source_date.sql"
      ],
      "metadata": {
        "colab": {
          "base_uri": "https://localhost:8080/"
        },
        "id": "h3WawtwKosgw",
        "outputId": "2a5520f0-9956-4af0-f4f4-ce68b696c40e"
      },
      "execution_count": null,
      "outputs": [
        {
          "output_type": "stream",
          "name": "stdout",
          "text": [
            "mysql: [Warning] Using a password on the command line interface can be insecure.\n",
            "ERROR 1292 (22007) at line 9: Incorrect date value: '0000-00-00' for column 'effective_date' at row 5\n"
          ]
        }
      ]
    },
    {
      "cell_type": "code",
      "source": [
        "!mysql dw -e \"select * from source.sales_order \\G\""
      ],
      "metadata": {
        "colab": {
          "base_uri": "https://localhost:8080/"
        },
        "id": "jnBNV7vApchd",
        "outputId": "981ea27d-fa2b-4b3f-c68d-a43d68a3b87a"
      },
      "execution_count": null,
      "outputs": [
        {
          "output_type": "stream",
          "name": "stdout",
          "text": [
            "*************************** 1. row ***************************\n",
            "   order_number: 17\n",
            "customer_number: 1\n",
            "   product_code: 1\n",
            "     order_date: 2007-02-06\n",
            "     entry_date: 2007-02-06\n",
            "   order_amount: 1000.00\n",
            "*************************** 2. row ***************************\n",
            "   order_number: 18\n",
            "customer_number: 2\n",
            "   product_code: 1\n",
            "     order_date: 2007-02-06\n",
            "     entry_date: 2007-02-06\n",
            "   order_amount: 1000.00\n",
            "*************************** 3. row ***************************\n",
            "   order_number: 19\n",
            "customer_number: 3\n",
            "   product_code: 1\n",
            "     order_date: 2007-02-06\n",
            "     entry_date: 2007-02-06\n",
            "   order_amount: 4000.00\n",
            "*************************** 4. row ***************************\n",
            "   order_number: 20\n",
            "customer_number: 4\n",
            "   product_code: 1\n",
            "     order_date: 2007-02-06\n",
            "     entry_date: 2007-02-06\n",
            "   order_amount: 4000.00\n"
          ]
        }
      ]
    },
    {
      "cell_type": "code",
      "source": [
        "!mysql dw -e \"select * from date_dim WHERE date= '2007-02-06'\\G\""
      ],
      "metadata": {
        "id": "TM6VaVXSp1DR"
      },
      "execution_count": null,
      "outputs": []
    },
    {
      "cell_type": "code",
      "source": [
        "# Adding more dates from additional sales orders \n",
        "!mysql -udwid -ppw < scripts/more_sales_order.sql"
      ],
      "metadata": {
        "colab": {
          "base_uri": "https://localhost:8080/"
        },
        "id": "LLTwmL39p80X",
        "outputId": "d221770f-a75c-4ff5-e235-d23d5e50a49a"
      },
      "execution_count": null,
      "outputs": [
        {
          "output_type": "stream",
          "name": "stdout",
          "text": [
            "mysql: [Warning] Using a password on the command line interface can be insecure.\n"
          ]
        }
      ]
    },
    {
      "cell_type": "code",
      "source": [
        "!mysql -udwid -ppw < scripts/source_date.sql   #changed to CRRENT_DATE as '0000-00-00' is incorrect"
      ],
      "metadata": {
        "colab": {
          "base_uri": "https://localhost:8080/"
        },
        "id": "vq30Y3DOqUpF",
        "outputId": "dccb8a87-b633-4958-a291-323b3757a968"
      },
      "execution_count": null,
      "outputs": [
        {
          "output_type": "stream",
          "name": "stdout",
          "text": [
            "mysql: [Warning] Using a password on the command line interface can be insecure.\n",
            "ERROR 1292 (22007) at line 9: Incorrect date value: '0000-00-00' for column 'effective_date' at row 5\n"
          ]
        }
      ]
    },
    {
      "cell_type": "code",
      "source": [
        "!mysql dw -e \"select * from date_dim \\G\""
      ],
      "metadata": {
        "id": "J-FkKPkTqf9L"
      },
      "execution_count": null,
      "outputs": []
    },
    {
      "cell_type": "markdown",
      "source": [
        "# Chapter 7 Initial Population\n"
      ],
      "metadata": {
        "id": "VxTiSuRMq07A"
      }
    },
    {
      "cell_type": "code",
      "source": [
        "# DW initial population \n",
        "!mysql -udwid -ppw < scripts/dw_initial.sql"
      ],
      "metadata": {
        "colab": {
          "base_uri": "https://localhost:8080/"
        },
        "id": "6948YFXsq5NF",
        "outputId": "f314e386-9d78-4d6e-e0c8-1af3d6216ac9"
      },
      "execution_count": null,
      "outputs": [
        {
          "output_type": "stream",
          "name": "stdout",
          "text": [
            "mysql: [Warning] Using a password on the command line interface can be insecure.\n",
            "ERROR 1290 (HY000) at line 9: The MySQL server is running with the --secure-file-priv option so it cannot execute this statement\n"
          ]
        }
      ]
    },
    {
      "cell_type": "code",
      "source": [
        "# Script for truncating the tables \n",
        "!mysql -udwid -ppw < scripts/truncate_tables.sql"
      ],
      "metadata": {
        "colab": {
          "base_uri": "https://localhost:8080/"
        },
        "id": "vG0Hbr5HrqnT",
        "outputId": "9dde3426-96d7-4524-cd8f-92bf250b239f"
      },
      "execution_count": null,
      "outputs": [
        {
          "output_type": "stream",
          "name": "stdout",
          "text": [
            "mysql: [Warning] Using a password on the command line interface can be insecure.\n"
          ]
        }
      ]
    },
    {
      "cell_type": "code",
      "source": [
        "!mysql dw -e \"call pre_populate_date ('2005-03-01', '2010-12-31');\""
      ],
      "metadata": {
        "id": "0OnAhX8krx-v"
      },
      "execution_count": null,
      "outputs": []
    },
    {
      "cell_type": "code",
      "source": [
        "!mysql -udwid -ppw < scripts/sales_order_initial.sql"
      ],
      "metadata": {
        "colab": {
          "base_uri": "https://localhost:8080/"
        },
        "id": "eAUQtT51r_Rp",
        "outputId": "1d41e51c-1ca4-4d1e-e3a6-58cde758acff"
      },
      "execution_count": null,
      "outputs": [
        {
          "output_type": "stream",
          "name": "stdout",
          "text": [
            "mysql: [Warning] Using a password on the command line interface can be insecure.\n"
          ]
        }
      ]
    },
    {
      "cell_type": "code",
      "source": [
        "!mysql -udwid -ppw < scripts/dw_initial.sql"
      ],
      "metadata": {
        "colab": {
          "base_uri": "https://localhost:8080/"
        },
        "id": "gs2JLrXQsRWr",
        "outputId": "31d80bc5-8440-4751-98f0-af2c0fcf567f"
      },
      "execution_count": null,
      "outputs": [
        {
          "output_type": "stream",
          "name": "stdout",
          "text": [
            "mysql: [Warning] Using a password on the command line interface can be insecure.\n"
          ]
        }
      ]
    },
    {
      "cell_type": "code",
      "source": [
        "!mysql -udwid -ppw < scripts/confirm_initial_population.sql"
      ],
      "metadata": {
        "colab": {
          "base_uri": "https://localhost:8080/"
        },
        "id": "ETHgvLUAsUPd",
        "outputId": "8d8e8a62-7eff-412a-9cd7-bbc1592e3537"
      },
      "execution_count": null,
      "outputs": [
        {
          "output_type": "stream",
          "name": "stdout",
          "text": [
            "mysql: [Warning] Using a password on the command line interface can be insecure.\n",
            "order_sk\tcustomer_name\tproduct_name\tdate\tamount\n",
            "1\tMedium Retailers\tFlat Panel\t2005-03-01\t4000.00\n",
            "2\tGood Companies\tRegular Hard Disk Drive\t2005-04-15\t4000.00\n",
            "3\tWonderful Shops\tFloppy Drive\t2005-05-20\t6000.00\n",
            "4\tLoyal Clients\tFlat Panel\t2005-07-30\t6000.00\n",
            "5\tDistinguished Partners\tRegular Hard Disk Drive\t2005-09-01\t8000.00\n",
            "6\tReally Large Customers\tFloppy Drive\t2005-11-10\t8000.00\n",
            "7\tSmall Stores\tFlat Panel\t2006-01-05\t1000.00\n",
            "8\tMedium Retailers\tRegular Hard Disk Drive\t2006-02-10\t1000.00\n",
            "9\tGood Companies\tFloppy Drive\t2006-03-15\t2000.00\n",
            "10\tWonderful Shops\tFlat Panel\t2006-04-20\t2500.00\n",
            "11\tLoyal Clients\tRegular Hard Disk Drive\t2006-05-30\t3000.00\n",
            "12\tDistinguished Partners\tFloppy Drive\t2006-06-01\t3500.00\n",
            "13\tReally Large Customers\tFlat Panel\t2006-07-15\t4000.00\n",
            "14\tSmall Stores\tRegular Hard Disk Drive\t2006-08-30\t4500.00\n",
            "15\tMedium Retailers\tFloppy Drive\t2006-09-05\t1000.00\n",
            "16\tGood Companies\tFlat Panel\t2006-10-05\t1000.00\n",
            "17\tWonderful Shops\tRegular Hard Disk Drive\t2007-01-10\t4000.00\n",
            "18\tLoyal Clients\tFloppy Drive\t2007-02-20\t4000.00\n",
            "19\tDistinguished Partners\tFlat Panel\t2007-02-28\t4000.00\n"
          ]
        }
      ]
    },
    {
      "cell_type": "code",
      "source": [
        "!mysql dw -e \"select d.order_sk, customer_name, product_name, date, order_amount amount from sales_order_fact a, customer_dim b, product_dim c, order_dim d, date_dim e WHERE    a.customer_sk = b.customer_sk AND a.product_sk = c.product_sk AND a.order_sk = d.order_sk AND a.order_date_sk = e.date_sk\""
      ],
      "metadata": {
        "colab": {
          "base_uri": "https://localhost:8080/"
        },
        "id": "_WgxhoyQsjap",
        "outputId": "e9c1710f-1106-468d-a560-4954587ced44"
      },
      "execution_count": null,
      "outputs": [
        {
          "output_type": "stream",
          "name": "stdout",
          "text": [
            "+----------+------------------------+-------------------------+------------+---------+\n",
            "| order_sk | customer_name          | product_name            | date       | amount  |\n",
            "+----------+------------------------+-------------------------+------------+---------+\n",
            "|        1 | Medium Retailers       | Flat Panel              | 2005-03-01 | 4000.00 |\n",
            "|        2 | Good Companies         | Regular Hard Disk Drive | 2005-04-15 | 4000.00 |\n",
            "|        3 | Wonderful Shops        | Floppy Drive            | 2005-05-20 | 6000.00 |\n",
            "|        4 | Loyal Clients          | Flat Panel              | 2005-07-30 | 6000.00 |\n",
            "|        5 | Distinguished Partners | Regular Hard Disk Drive | 2005-09-01 | 8000.00 |\n",
            "|        6 | Really Large Customers | Floppy Drive            | 2005-11-10 | 8000.00 |\n",
            "|        7 | Small Stores           | Flat Panel              | 2006-01-05 | 1000.00 |\n",
            "|        8 | Medium Retailers       | Regular Hard Disk Drive | 2006-02-10 | 1000.00 |\n",
            "|        9 | Good Companies         | Floppy Drive            | 2006-03-15 | 2000.00 |\n",
            "|       10 | Wonderful Shops        | Flat Panel              | 2006-04-20 | 2500.00 |\n",
            "|       11 | Loyal Clients          | Regular Hard Disk Drive | 2006-05-30 | 3000.00 |\n",
            "|       12 | Distinguished Partners | Floppy Drive            | 2006-06-01 | 3500.00 |\n",
            "|       13 | Really Large Customers | Flat Panel              | 2006-07-15 | 4000.00 |\n",
            "|       14 | Small Stores           | Regular Hard Disk Drive | 2006-08-30 | 4500.00 |\n",
            "|       15 | Medium Retailers       | Floppy Drive            | 2006-09-05 | 1000.00 |\n",
            "|       16 | Good Companies         | Flat Panel              | 2006-10-05 | 1000.00 |\n",
            "|       17 | Wonderful Shops        | Regular Hard Disk Drive | 2007-01-10 | 4000.00 |\n",
            "|       18 | Loyal Clients          | Floppy Drive            | 2007-02-20 | 4000.00 |\n",
            "|       19 | Distinguished Partners | Flat Panel              | 2007-02-28 | 4000.00 |\n",
            "+----------+------------------------+-------------------------+------------+---------+\n"
          ]
        }
      ]
    },
    {
      "cell_type": "markdown",
      "source": [
        "# Chapter 8 Regular Population"
      ],
      "metadata": {
        "id": "S8W4w1Sttr8c"
      }
    },
    {
      "cell_type": "code",
      "source": [
        "!mysql -udwid -ppw < scripts/sales_order_regular.sql"
      ],
      "metadata": {
        "colab": {
          "base_uri": "https://localhost:8080/"
        },
        "id": "T_rqB6QXu7ii",
        "outputId": "c3640083-5336-4876-9a4c-9d69d6c84ba5"
      },
      "execution_count": null,
      "outputs": [
        {
          "output_type": "stream",
          "name": "stdout",
          "text": [
            "mysql: [Warning] Using a password on the command line interface can be insecure.\n"
          ]
        }
      ]
    },
    {
      "cell_type": "code",
      "source": [
        "#  Daily dw regular population \n",
        "!mysql -udwid -ppw < scripts/dw_regular.sql "
      ],
      "metadata": {
        "colab": {
          "base_uri": "https://localhost:8080/"
        },
        "id": "ZxUrZpKFtutO",
        "outputId": "282d1175-30e9-46bb-c703-3eb6a3e7df84"
      },
      "execution_count": null,
      "outputs": [
        {
          "output_type": "stream",
          "name": "stdout",
          "text": [
            "mysql: [Warning] Using a password on the command line interface can be insecure.\n"
          ]
        }
      ]
    },
    {
      "cell_type": "code",
      "source": [
        "!mysql dw -e \"select * from customer_dim \\G\""
      ],
      "metadata": {
        "colab": {
          "base_uri": "https://localhost:8080/"
        },
        "id": "qE4kPKF-vEAp",
        "outputId": "8646e93f-9aac-488d-901c-93ed1c4d48a7"
      },
      "execution_count": null,
      "outputs": [
        {
          "output_type": "stream",
          "name": "stdout",
          "text": [
            "*************************** 1. row ***************************\n",
            "            customer_sk: 1\n",
            "        customer_number: 1\n",
            "          customer_name: Really Large Customers\n",
            "customer_street_address: 7500 Louise Dr.\n",
            "      customer_zip_code: 17050\n",
            "          customer_city: Mechanicsburg\n",
            "         customer_state: PA\n",
            "         effective_date: 2005-03-01\n",
            "            expiry_date: 9999-12-31\n",
            "*************************** 2. row ***************************\n",
            "            customer_sk: 2\n",
            "        customer_number: 2\n",
            "          customer_name: Small Stores\n",
            "customer_street_address: 2500 Woodland St.\n",
            "      customer_zip_code: 17055\n",
            "          customer_city: Pittsburgh\n",
            "         customer_state: PA\n",
            "         effective_date: 2005-03-01\n",
            "            expiry_date: 9999-12-31\n",
            "*************************** 3. row ***************************\n",
            "            customer_sk: 3\n",
            "        customer_number: 3\n",
            "          customer_name: Medium Retailers\n",
            "customer_street_address: 1111 Ritter Rd.\n",
            "      customer_zip_code: 17055\n",
            "          customer_city: Pittsburgh\n",
            "         customer_state: PA\n",
            "         effective_date: 2005-03-01\n",
            "            expiry_date: 9999-12-31\n",
            "*************************** 4. row ***************************\n",
            "            customer_sk: 4\n",
            "        customer_number: 4\n",
            "          customer_name: Good Companies\n",
            "customer_street_address: 9500 Scott St.\n",
            "      customer_zip_code: 17050\n",
            "          customer_city: Mechanicsburg\n",
            "         customer_state: PA\n",
            "         effective_date: 2005-03-01\n",
            "            expiry_date: 9999-12-31\n",
            "*************************** 5. row ***************************\n",
            "            customer_sk: 5\n",
            "        customer_number: 5\n",
            "          customer_name: Wonderful Shops\n",
            "customer_street_address: 3333 Rossmoyne Rd.\n",
            "      customer_zip_code: 17050\n",
            "          customer_city: Mechanicsburg\n",
            "         customer_state: PA\n",
            "         effective_date: 2005-03-01\n",
            "            expiry_date: 9999-12-31\n",
            "*************************** 6. row ***************************\n",
            "            customer_sk: 6\n",
            "        customer_number: 6\n",
            "          customer_name: Loyal Clients\n",
            "customer_street_address: 7070 Ritter Rd.\n",
            "      customer_zip_code: 17055\n",
            "          customer_city: Pittsburgh\n",
            "         customer_state: PA\n",
            "         effective_date: 2005-03-01\n",
            "            expiry_date: 9999-12-31\n",
            "*************************** 7. row ***************************\n",
            "            customer_sk: 7\n",
            "        customer_number: 7\n",
            "          customer_name: Distinguished Partners\n",
            "customer_street_address: 9999 Scott St.\n",
            "      customer_zip_code: 17050\n",
            "          customer_city: Mechanicsburg\n",
            "         customer_state: PA\n",
            "         effective_date: 2005-03-01\n",
            "            expiry_date: 9999-12-31\n"
          ]
        }
      ]
    },
    {
      "cell_type": "code",
      "source": [
        "!mysql dw -e \"update product_dim set effective_date = '2007-03-01' where product_sk in (4, 5, 7, 8) \""
      ],
      "metadata": {
        "id": "eb_Fx9nRvVh2"
      },
      "execution_count": null,
      "outputs": []
    },
    {
      "cell_type": "code",
      "source": [
        "!mysql dw -e \"select * from product_dim \\G\""
      ],
      "metadata": {
        "colab": {
          "base_uri": "https://localhost:8080/"
        },
        "id": "Q0d8dka1vJfy",
        "outputId": "dc4664cb-7a77-4b22-e382-756b711bc271"
      },
      "execution_count": null,
      "outputs": [
        {
          "output_type": "stream",
          "name": "stdout",
          "text": [
            "*************************** 1. row ***************************\n",
            "      product_sk: 1\n",
            "    product_code: 1\n",
            "    product_name: Regular Hard Disk Drive\n",
            "product_category: Storage\n",
            "  effective_date: 2005-03-01\n",
            "     expiry_date: 9999-12-31\n",
            "*************************** 2. row ***************************\n",
            "      product_sk: 2\n",
            "    product_code: 2\n",
            "    product_name: Floppy Drive\n",
            "product_category: Storage\n",
            "  effective_date: 2005-03-01\n",
            "     expiry_date: 9999-12-31\n",
            "*************************** 3. row ***************************\n",
            "      product_sk: 3\n",
            "    product_code: 3\n",
            "    product_name: Flat Panel\n",
            "product_category: Monitor\n",
            "  effective_date: 2005-03-01\n",
            "     expiry_date: 9999-12-31\n",
            "*************************** 4. row ***************************\n",
            "      product_sk: 4\n",
            "    product_code: 4\n",
            "    product_name: Keyboard\n",
            "product_category: Peripheral\n",
            "  effective_date: 2007-03-01\n",
            "     expiry_date: 9999-12-31\n",
            "*************************** 5. row ***************************\n",
            "      product_sk: 5\n",
            "    product_code: 5\n",
            "    product_name: High End Hard Disk Drive\n",
            "product_category: Storage\n",
            "  effective_date: 2007-03-01\n",
            "     expiry_date: 9999-12-31\n"
          ]
        }
      ]
    },
    {
      "cell_type": "code",
      "source": [
        "!mysql dw -e \"select * from order_dim;\""
      ],
      "metadata": {
        "colab": {
          "base_uri": "https://localhost:8080/"
        },
        "id": "qQjYn9LkwYdX",
        "outputId": "5876f07b-3ade-4926-c30a-83550c93136c"
      },
      "execution_count": null,
      "outputs": [
        {
          "output_type": "stream",
          "name": "stdout",
          "text": [
            "+----------+--------------+----------------+-------------+\n",
            "| order_sk | order_number | effective_date | expiry_date |\n",
            "+----------+--------------+----------------+-------------+\n",
            "|        1 |            3 | 2005-03-01     | 9999-12-31  |\n",
            "|        2 |            4 | 2005-04-15     | 9999-12-31  |\n",
            "|        3 |            5 | 2005-05-20     | 9999-12-31  |\n",
            "|        4 |            6 | 2005-07-30     | 9999-12-31  |\n",
            "|        5 |            7 | 2005-09-01     | 9999-12-31  |\n",
            "|        6 |            8 | 2005-11-10     | 9999-12-31  |\n",
            "|        7 |            9 | 2006-01-05     | 9999-12-31  |\n",
            "|        8 |           10 | 2006-02-10     | 9999-12-31  |\n",
            "|        9 |           11 | 2006-03-15     | 9999-12-31  |\n",
            "|       10 |           12 | 2006-04-20     | 9999-12-31  |\n",
            "|       11 |           13 | 2006-05-30     | 9999-12-31  |\n",
            "|       12 |           14 | 2006-06-01     | 9999-12-31  |\n",
            "|       13 |           15 | 2006-07-15     | 9999-12-31  |\n",
            "|       14 |           16 | 2006-08-30     | 9999-12-31  |\n",
            "|       15 |           17 | 2006-09-05     | 9999-12-31  |\n",
            "|       16 |           18 | 2006-10-05     | 9999-12-31  |\n",
            "|       17 |           19 | 2007-01-10     | 9999-12-31  |\n",
            "|       18 |           20 | 2007-02-20     | 9999-12-31  |\n",
            "|       19 |           21 | 2007-02-28     | 9999-12-31  |\n",
            "+----------+--------------+----------------+-------------+\n"
          ]
        }
      ]
    },
    {
      "cell_type": "code",
      "source": [
        "!mysql dw -e \"select * from sales_order_fact;\""
      ],
      "metadata": {
        "colab": {
          "base_uri": "https://localhost:8080/"
        },
        "id": "5o_qnn9RwgMo",
        "outputId": "aa7956a6-cd8b-403c-f265-2f3226b70c80"
      },
      "execution_count": null,
      "outputs": [
        {
          "output_type": "stream",
          "name": "stdout",
          "text": [
            "+----------+-------------+------------+---------------+--------------+\n",
            "| order_sk | customer_sk | product_sk | order_date_sk | order_amount |\n",
            "+----------+-------------+------------+---------------+--------------+\n",
            "|        1 |           3 |          3 |             1 |      4000.00 |\n",
            "|        2 |           4 |          1 |            46 |      4000.00 |\n",
            "|        3 |           5 |          2 |            81 |      6000.00 |\n",
            "|        4 |           6 |          3 |           152 |      6000.00 |\n",
            "|        5 |           7 |          1 |           185 |      8000.00 |\n",
            "|        6 |           1 |          2 |           255 |      8000.00 |\n",
            "|        7 |           2 |          3 |           311 |      1000.00 |\n",
            "|        8 |           3 |          1 |           347 |      1000.00 |\n",
            "|        9 |           4 |          2 |           380 |      2000.00 |\n",
            "|       10 |           5 |          3 |           416 |      2500.00 |\n",
            "|       11 |           6 |          1 |           456 |      3000.00 |\n",
            "|       12 |           7 |          2 |           458 |      3500.00 |\n",
            "|       13 |           1 |          3 |           502 |      4000.00 |\n",
            "|       14 |           2 |          1 |           548 |      4500.00 |\n",
            "|       15 |           3 |          2 |           554 |      1000.00 |\n",
            "|       16 |           4 |          3 |           584 |      1000.00 |\n",
            "|       17 |           5 |          1 |           681 |      4000.00 |\n",
            "|       18 |           6 |          2 |           722 |      4000.00 |\n",
            "|       19 |           7 |          3 |           730 |      4000.00 |\n",
            "+----------+-------------+------------+---------------+--------------+\n"
          ]
        }
      ]
    },
    {
      "cell_type": "markdown",
      "source": [
        "# Chapter 9 Regular Population Scheduling"
      ],
      "metadata": {
        "id": "ttu-VGB3wq9j"
      }
    },
    {
      "cell_type": "code",
      "source": [
        "# DW regular population batch #not possible in colab\n",
        "!mysql -udwid -ppw -D dw < scripts/dw_regular.sql"
      ],
      "metadata": {
        "colab": {
          "base_uri": "https://localhost:8080/"
        },
        "id": "73I5l-YJwtrh",
        "outputId": "a7d86414-5006-43e7-c068-9db1a640a5eb"
      },
      "execution_count": null,
      "outputs": [
        {
          "output_type": "stream",
          "name": "stdout",
          "text": [
            "mysql: [Warning] Using a password on the command line interface can be insecure.\n"
          ]
        }
      ]
    }
  ],
  "metadata": {
    "colab": {
      "collapsed_sections": [
        "OrqMBE2dMBSO",
        "nOQvvyv1M7fv",
        "QEpHP07dO4rw",
        "xuSRohQGOg0O",
        "sUirdgZZDBjx",
        "u4HmzZJvG6jF",
        "GdxqFyiGRhcF",
        "eBtuxC4yW0VU",
        "VxTiSuRMq07A",
        "S8W4w1Sttr8c"
      ],
      "provenance": []
    },
    "kernelspec": {
      "display_name": "Python 3",
      "name": "python3"
    }
  },
  "nbformat": 4,
  "nbformat_minor": 0
}